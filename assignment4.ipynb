{
  "nbformat": 4,
  "nbformat_minor": 0,
  "metadata": {
    "colab": {
      "provenance": [],
      "authorship_tag": "ABX9TyMlix5vswXPRCfuvAK05z/r",
      "include_colab_link": true
    },
    "kernelspec": {
      "name": "python3",
      "display_name": "Python 3"
    },
    "language_info": {
      "name": "python"
    }
  },
  "cells": [
    {
      "cell_type": "markdown",
      "metadata": {
        "id": "view-in-github",
        "colab_type": "text"
      },
      "source": [
        "<a href=\"https://colab.research.google.com/github/sarthak572/cognitive_computing/blob/main/assignment4.ipynb\" target=\"_parent\"><img src=\"https://colab.research.google.com/assets/colab-badge.svg\" alt=\"Open In Colab\"/></a>"
      ]
    },
    {
      "cell_type": "code",
      "execution_count": 1,
      "metadata": {
        "colab": {
          "base_uri": "https://localhost:8080/"
        },
        "id": "GGXzFZMVtqxF",
        "outputId": "de1b6249-609e-466a-e1fe-975e75ebbc7d"
      },
      "outputs": [
        {
          "output_type": "stream",
          "name": "stdout",
          "text": [
            "1. 5\n",
            "2. [ 3  6  9 12 15]\n",
            "3. [0.5 1.  1.5 2.  2.5]\n"
          ]
        }
      ],
      "source": [
        "import numpy as np\n",
        "\n",
        "a = [1,2,3,4,5]\n",
        "arr = np.array(a)\n",
        "\n",
        "print(f\"1. {arr[1] + arr[2]}\")\n",
        "print(f\"2. {arr * 3}\")\n",
        "print(f\"3. {arr / 2}\")"
      ]
    },
    {
      "cell_type": "code",
      "source": [
        "arr = np.array([1,2,3,4,5])\n",
        "print(f\"Reversed array: {np.flip(arr)}\")\n",
        "\n",
        "x = np.array([1,2,3,4,5,1,2,1,1,1])\n",
        "unq_x, counts_x = np.unique(x, return_counts=True)\n",
        "max_counts_x = np.argmax(counts_x)\n",
        "max_element_x = unq_x[max_counts_x]\n",
        "print(f\"Most frequent element in x: {max_element_x}, with a frequency of: {counts_x[max_counts_x]}\")\n",
        "\n",
        "y = np.array([1, 1, 1, 2, 3, 4, 2, 4, 3, 3, ])\n",
        "unq_y, counts_y = np.unique(y, return_counts=True)\n",
        "max_counts_y = np.argmax(counts_y)\n",
        "max_element_y = unq_y[max_counts_y]\n",
        "print(f\"Most frequent element in x: {max_element_y}, with a frequency of: {counts_y[max_counts_y]}\")"
      ],
      "metadata": {
        "colab": {
          "base_uri": "https://localhost:8080/"
        },
        "id": "OkCjz-R-tr7T",
        "outputId": "72c726b2-6817-4409-d892-56b0d7bbd9ba"
      },
      "execution_count": 2,
      "outputs": [
        {
          "output_type": "stream",
          "name": "stdout",
          "text": [
            "Reversed array: [5 4 3 2 1]\n",
            "Most frequent element in x: 1, with a frequency of: 5\n",
            "Most frequent element in x: 1, with a frequency of: 3\n"
          ]
        }
      ]
    },
    {
      "cell_type": "code",
      "source": [
        "arr2d = np.array([[10, 20, 30], [40, 50, 60], [70, 80, 90]])\n",
        "\n",
        "print(f\"1. {arr2d[0][1]}\")\n",
        "print(f\"2. {arr2d[2][0]}\")"
      ],
      "metadata": {
        "colab": {
          "base_uri": "https://localhost:8080/"
        },
        "id": "FzYlimBitvDk",
        "outputId": "15bc81dd-c5c1-4b58-d9b3-e2d836569fda"
      },
      "execution_count": 3,
      "outputs": [
        {
          "output_type": "stream",
          "name": "stdout",
          "text": [
            "1. 20\n",
            "2. 70\n"
          ]
        }
      ]
    },
    {
      "cell_type": "code",
      "source": [
        "import numpy as np\n",
        "\n",
        "sarthak = np.array(np.linspace(10, 100, 25), dtype=np.float64)\n",
        "\n",
        "print(f\"i.\\nDimensions: {sarthak.ndim}\")\n",
        "print(f\"Shape: {sarthak.shape}\")\n",
        "print(f\"Number of elements: {sarthak.size}\")\n",
        "print(f\"Datatype: {sarthak.dtype}\")\n",
        "print(f\"Number of Bytes occupied: {sarthak.nbytes}\")\n",
        "\n",
        "sarthak_reshaped = sarthak.reshape(5, 5)\n",
        "print(f\"ii. Transpose using reshape:\\n{sarthak_reshaped}\")\n",
        "\n",
        "sarthak_T = sarthak_reshaped.T\n",
        "print(f\"Transpose using T attribute:\\n{sarthak_T}\")"
      ],
      "metadata": {
        "colab": {
          "base_uri": "https://localhost:8080/"
        },
        "id": "5sC1QJ9mtxCU",
        "outputId": "1d8e7a46-4254-4c63-9428-4d3eea26be90"
      },
      "execution_count": 4,
      "outputs": [
        {
          "output_type": "stream",
          "name": "stdout",
          "text": [
            "i.\n",
            "Dimensions: 1\n",
            "Shape: (25,)\n",
            "Number of elements: 25\n",
            "Datatype: float64\n",
            "Number of Bytes occupied: 200\n",
            "ii. Transpose using reshape:\n",
            "[[ 10.    13.75  17.5   21.25  25.  ]\n",
            " [ 28.75  32.5   36.25  40.    43.75]\n",
            " [ 47.5   51.25  55.    58.75  62.5 ]\n",
            " [ 66.25  70.    73.75  77.5   81.25]\n",
            " [ 85.    88.75  92.5   96.25 100.  ]]\n",
            "Transpose using T attribute:\n",
            "[[ 10.    28.75  47.5   66.25  85.  ]\n",
            " [ 13.75  32.5   51.25  70.    88.75]\n",
            " [ 17.5   36.25  55.    73.75  92.5 ]\n",
            " [ 21.25  40.    58.75  77.5   96.25]\n",
            " [ 25.    43.75  62.5   81.25 100.  ]]\n"
          ]
        }
      ]
    },
    {
      "cell_type": "code",
      "source": [
        "import numpy as np\n",
        "\n",
        "ucs420_Shrey = np.array([10, 20, 30, 40, 50, 60, 70, 80, 90, 15, 20, 35])\n",
        "\n",
        "print(f\"Mean: {ucs420_Shrey.mean():.3f}\")\n",
        "print(f\"Median: {np.median(ucs420_Shrey)}\")\n",
        "print(f\"Max: {ucs420_Shrey.max()}\")\n",
        "print(f\"Min: {ucs420_Shrey.min()}\")\n",
        "\n",
        "print(f\"Standard Deviation: {ucs420_Shrey.std():.3f}\")\n",
        "print(f\"Variance: {ucs420_Shrey.var():.3f}\")\n",
        "\n",
        "unique_elements = np.unique(ucs420_Shrey)\n",
        "print(f\"Unique elements: {unique_elements}\")\n",
        "\n",
        "sorted_array = np.sort(ucs420_Shrey)\n",
        "print(f\"Sorted array: {sorted_array}\")\n",
        "\n",
        "if ucs420_Shrey.size == 4 * 3:\n",
        "    reshaped_array = ucs420_Shrey.reshape(4, 3)\n",
        "    print(f\"Reshaped array (4x3):\\n{reshaped_array}\")\n",
        "else:\n",
        "    print(\"Reshape operation skipped: Invalid size.\")\n",
        "\n",
        "resized_array = np.resize(ucs420_Shrey, (2, 3))\n",
        "print(f\"Resized array (2x3):\\n{resized_array}\")\n"
      ],
      "metadata": {
        "colab": {
          "base_uri": "https://localhost:8080/"
        },
        "id": "03ZVWVD8t_QY",
        "outputId": "756fb9bd-bbfb-461e-a0a4-17442938855d"
      },
      "execution_count": 5,
      "outputs": [
        {
          "output_type": "stream",
          "name": "stdout",
          "text": [
            "Mean: 43.333\n",
            "Median: 37.5\n",
            "Max: 90\n",
            "Min: 10\n",
            "Standard Deviation: 25.522\n",
            "Variance: 651.389\n",
            "Unique elements: [10 15 20 30 35 40 50 60 70 80 90]\n",
            "Sorted array: [10 15 20 20 30 35 40 50 60 70 80 90]\n",
            "Reshaped array (4x3):\n",
            "[[10 20 30]\n",
            " [40 50 60]\n",
            " [70 80 90]\n",
            " [15 20 35]]\n",
            "Resized array (2x3):\n",
            "[[10 20 30]\n",
            " [40 50 60]]\n"
          ]
        }
      ]
    },
    {
      "cell_type": "code",
      "source": [],
      "metadata": {
        "id": "TDVSAeH2uDVB"
      },
      "execution_count": null,
      "outputs": []
    }
  ]
}