{
  "nbformat": 4,
  "nbformat_minor": 0,
  "metadata": {
    "colab": {
      "provenance": [],
      "authorship_tag": "ABX9TyM/GPXHE/OqOKht6DVjx//9",
      "include_colab_link": true
    },
    "kernelspec": {
      "name": "python3",
      "display_name": "Python 3"
    },
    "language_info": {
      "name": "python"
    }
  },
  "cells": [
    {
      "cell_type": "markdown",
      "metadata": {
        "id": "view-in-github",
        "colab_type": "text"
      },
      "source": [
        "<a href=\"https://colab.research.google.com/github/sarthak572/cognitive_computing/blob/main/assignment2.ipynb\" target=\"_parent\"><img src=\"https://colab.research.google.com/assets/colab-badge.svg\" alt=\"Open In Colab\"/></a>"
      ]
    },
    {
      "cell_type": "code",
      "execution_count": 1,
      "metadata": {
        "colab": {
          "base_uri": "https://localhost:8080/"
        },
        "id": "1zaqUciRsuUt",
        "outputId": "98ac384d-4c1c-46ac-e972-5f8669715e0c"
      },
      "outputs": [
        {
          "output_type": "stream",
          "name": "stdout",
          "text": [
            "List in ascending order: [20, 40, 50, 60, 70, 80, 200, 200, 300, 300]\n",
            "List in descending order: [300, 300, 200, 200, 80, 70, 60, 50, 40, 20]\n"
          ]
        }
      ],
      "source": [
        "L = [10, 20, 30, 40, 50, 60, 70, 80,]\n",
        "\n",
        "#L.append(98)\n",
        "L.append(200)\n",
        "L.append(200)\n",
        "L.append(300)\n",
        "L.append(300)\n",
        "\n",
        "\n",
        "L.remove(10)\n",
        "L.remove(30)\n",
        "\n",
        "L.sort()\n",
        "print(\"List in ascending order:\", L)\n",
        "\n",
        "L.sort(reverse=True)\n",
        "print(\"List in descending order:\", L)"
      ]
    },
    {
      "cell_type": "code",
      "source": [
        "scores = (45, 89.5, 76, 45.4, 89, 92, 58, 45)\n",
        "\n",
        "max_score = max(scores)\n",
        "max_index = scores.index(max_score)\n",
        "print(f\"Highest score: {max_score}, Index: {max_index}\")\n",
        "\n",
        "lowest_score = min(scores)\n",
        "lowest_count = scores.count(lowest_score)\n",
        "print(f\"Lowest score: {lowest_score}, Count: {lowest_count}\")\n",
        "\n",
        "reversed_list = list(scores[::-1])\n",
        "print(f\"Reversed tuple as list: {reversed_list}\")\n",
        "\n",
        "user_score = int(input(\"Enter the score to check: \"))\n",
        "if user_score in scores:\n",
        "    first_occurrence_index = scores.index(user_score)\n",
        "    print(f\"Score {user_score} is present at index: {first_occurrence_index}\")\n",
        "else:\n",
        "    print(f\"Score {user_score} is not present in the tuple.\")\n",
        "\n",
        "\n"
      ],
      "metadata": {
        "colab": {
          "base_uri": "https://localhost:8080/"
        },
        "id": "EAsGxlegsvix",
        "outputId": "c3893041-cbf1-4cee-c9c1-5db18a05fa2b"
      },
      "execution_count": 3,
      "outputs": [
        {
          "output_type": "stream",
          "name": "stdout",
          "text": [
            "Highest score: 92, Index: 5\n",
            "Lowest score: 45, Count: 2\n",
            "Reversed tuple as list: [45, 58, 92, 89, 45.4, 76, 89.5, 45]\n",
            "Enter the score to check: 23\n",
            "Score 23 is not present in the tuple.\n"
          ]
        }
      ]
    },
    {
      "cell_type": "code",
      "source": [
        "import random\n",
        "random_numbers = [random.randint(100,900) for _ in range(100)]\n",
        "\n",
        "def is_prime(num):\n",
        "    if num < 2:\n",
        "        return False\n",
        "    for i in range(2, int(num ** 0.5) + 1):\n",
        "        if num % i == 0:\n",
        "            return False\n",
        "    return True\n",
        "\n",
        "odd_numbers = [num for num in random_numbers if num % 2 != 0]\n",
        "print(f\"Odd numbers ({len(odd_numbers)}): {odd_numbers}\")\n",
        "\n",
        "even_numbers = [num for num in random_numbers if num % 2 == 0]\n",
        "print(f\"Even numbers ({len(even_numbers)}): {even_numbers}\")\n",
        "\n",
        "prime_numbers = [num for num in random_numbers if is_prime(num)]\n",
        "print(f\"Prime numbers ({len(prime_numbers)}): {prime_numbers}\")"
      ],
      "metadata": {
        "colab": {
          "base_uri": "https://localhost:8080/"
        },
        "id": "2kvxEuc8svfd",
        "outputId": "cb845256-ad7e-4c05-b9df-c7a5c8cf8e17"
      },
      "execution_count": 4,
      "outputs": [
        {
          "output_type": "stream",
          "name": "stdout",
          "text": [
            "Odd numbers (50): [171, 873, 681, 213, 317, 459, 769, 463, 423, 215, 101, 685, 663, 727, 889, 899, 859, 511, 247, 127, 765, 869, 477, 719, 743, 595, 379, 555, 755, 127, 719, 309, 713, 527, 415, 143, 359, 597, 315, 391, 671, 167, 765, 205, 755, 759, 565, 837, 305, 557]\n",
            "Even numbers (50): [358, 502, 888, 622, 200, 722, 450, 340, 392, 230, 568, 412, 534, 852, 612, 182, 398, 462, 208, 238, 442, 652, 238, 650, 612, 728, 588, 450, 208, 774, 780, 262, 680, 166, 612, 454, 844, 330, 164, 848, 134, 882, 698, 610, 886, 746, 744, 796, 532, 578]\n",
            "Prime numbers (15): [317, 769, 463, 101, 727, 859, 127, 719, 743, 379, 127, 719, 359, 167, 557]\n"
          ]
        }
      ]
    },
    {
      "cell_type": "code",
      "source": [
        "A = {34, 56, 78, 90}\n",
        "B = {78, 45, 90, 23}\n",
        "\n",
        "unique_scores = A.union(B)\n",
        "print(f\"Unique scores (Union): {unique_scores}\")\n",
        "\n",
        "common_scores = A.intersection(B)\n",
        "print(f\"Common scores (Intersection): {common_scores}\")\n",
        "\n",
        "exclusive_scores = A.symmetric_difference(B)\n",
        "print(f\"Exclusive scores (Symmetric Difference): {exclusive_scores}\")\n",
        "\n",
        "is_A_subset_B = A.issubset(B)\n",
        "is_B_superset_A = B.issuperset(A)\n",
        "print(f\"Is A a subset of B? {is_A_subset_B}\")\n",
        "print(f\"Is B a superset of A? {is_B_superset_A}\")\n",
        "\n",
        "X = int(input(\"Enter a score to remove from set A: \"))\n",
        "if X in A:\n",
        "    A.remove(X)\n",
        "    print(f\"Score {X} removed from set A. Updated set A: {A}\")\n",
        "else:\n",
        "    print(f\"Score {X} is not present in set A.\")"
      ],
      "metadata": {
        "colab": {
          "base_uri": "https://localhost:8080/"
        },
        "id": "xAKw97tisvdP",
        "outputId": "46c04900-3b88-4af4-ce15-4ad748919964"
      },
      "execution_count": 5,
      "outputs": [
        {
          "output_type": "stream",
          "name": "stdout",
          "text": [
            "Unique scores (Union): {34, 45, 78, 23, 56, 90}\n",
            "Common scores (Intersection): {90, 78}\n",
            "Exclusive scores (Symmetric Difference): {34, 45, 23, 56}\n",
            "Is A a subset of B? False\n",
            "Is B a superset of A? False\n",
            "Enter a score to remove from set A: 23\n",
            "Score 23 is not present in set A.\n"
          ]
        }
      ]
    },
    {
      "cell_type": "code",
      "source": [
        "sample_dict = {\n",
        "    \"name\": \"Kelly\",\n",
        "    \"age\": 25,\n",
        "    \"salary\": 8000,\n",
        "    \"city\": \"New York\"\n",
        "}\n",
        "\n",
        "sample_dict[\"location\"] = sample_dict.pop(\"city\")\n",
        "\n",
        "print(sample_dict)\n",
        "\n",
        "\n",
        "\n"
      ],
      "metadata": {
        "colab": {
          "base_uri": "https://localhost:8080/"
        },
        "id": "hz1rjJzEsvbZ",
        "outputId": "9f0ccebe-f772-49c8-cdec-52be80643131"
      },
      "execution_count": 6,
      "outputs": [
        {
          "output_type": "stream",
          "name": "stdout",
          "text": [
            "{'name': 'Kelly', 'age': 25, 'salary': 8000, 'location': 'New York'}\n"
          ]
        }
      ]
    },
    {
      "cell_type": "code",
      "source": [],
      "metadata": {
        "id": "TE7fcOyNs8XY"
      },
      "execution_count": null,
      "outputs": []
    }
  ]
}